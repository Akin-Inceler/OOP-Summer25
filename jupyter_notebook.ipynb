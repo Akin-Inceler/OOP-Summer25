{
  "metadata": {
    "kernelspec": {
      "name": "python",
      "display_name": "Python (Pyodide)",
      "language": "python"
    },
    "language_info": {
      "codemirror_mode": {
        "name": "python",
        "version": 3
      },
      "file_extension": ".py",
      "mimetype": "text/x-python",
      "name": "python",
      "nbconvert_exporter": "python",
      "pygments_lexer": "ipython3",
      "version": "3.8"
    }
  },
  "nbformat_minor": 5,
  "nbformat": 4,
  "cells": [
    {
      "id": "97ef8089-3b34-4b7d-bd8b-6c1019778670",
      "cell_type": "markdown",
      "source": "## The Simplest Class Ever\n",
      "metadata": {}
    },
    {
      "id": "7d404aac-c75e-40b0-af66-e67db59428a2",
      "cell_type": "code",
      "source": "class MyClass:\n    pass",
      "metadata": {
        "trusted": true
      },
      "outputs": [],
      "execution_count": 1
    },
    {
      "id": "27b0adae-3d9d-4065-bd25-fd53deb198a2",
      "cell_type": "markdown",
      "source": "## The Simplest Object Ever",
      "metadata": {}
    },
    {
      "id": "3eac0c10-c035-4203-a596-d0f4766a7811",
      "cell_type": "code",
      "source": "obj = MyClass()\nprint(obj)",
      "metadata": {
        "trusted": true
      },
      "outputs": [
        {
          "name": "stdout",
          "output_type": "stream",
          "text": "<__main__.MyClass object at 0x172ce48>\n"
        }
      ],
      "execution_count": 2
    },
    {
      "id": "06521725-64e7-40e7-9a56-0866190637f3",
      "cell_type": "markdown",
      "source": "## Class With One Method",
      "metadata": {}
    },
    {
      "id": "7f2da0f6-02d6-449a-9168-d4ad83bed252",
      "cell_type": "code",
      "source": "class Greeter:\n    def say_hello(self):\n        print(\"Hello, world!\")",
      "metadata": {
        "trusted": true
      },
      "outputs": [],
      "execution_count": 3
    },
    {
      "id": "235e0b61-4096-44da-b690-f347920e7aa6",
      "cell_type": "markdown",
      "source": "## The Usage Of That Method",
      "metadata": {}
    },
    {
      "id": "5940e15d-6438-43c4-b07f-fe4778c8701f",
      "cell_type": "code",
      "source": "g = Greeter()\ng.say_hello()",
      "metadata": {
        "trusted": true
      },
      "outputs": [
        {
          "name": "stdout",
          "output_type": "stream",
          "text": "Hello, world!\n"
        }
      ],
      "execution_count": 4
    },
    {
      "id": "6efb7c48-f3db-456a-8f08-b4ea1a05258d",
      "cell_type": "code",
      "source": "",
      "metadata": {
        "trusted": true
      },
      "outputs": [],
      "execution_count": null
    }
  ]
}