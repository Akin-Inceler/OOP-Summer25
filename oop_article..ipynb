{
 "cells": [
  {
   "cell_type": "markdown",
   "id": "5d73bc74",
   "metadata": {},
   "source": [
    "## Object-Oriented Programming in Python: A Beginner’s Guide with Real Examples ##\n",
    "By Akın İnceler\n",
    "\n",
    "In the world of Python programming, Object-Oriented Programming (OOP) is more than just a buzzword — it’s a powerful paradigm that helps developers write clean, efficient, and scalable code. Whether you're building a web application, a game, or an automation script, understanding OOP can significantly improve the way you structure and think about your code.\n",
    "\n",
    "In this article, we’ll break down the fundamentals of OOP in Python, provide real-world examples, and show how it can simplify complex programming problems.\n",
    "\n",
    "### 🔍 What Is Object-Oriented Programming? ###\n",
    "Object-Oriented Programming is a method of programming that organizes code around objects — which are instances of classes. A class is like a blueprint, and an object is a concrete instantiation of that blueprint.\n",
    "\n",
    "OOP enables:\n",
    "\n",
    "Encapsulation: Bundling data and behavior together\n",
    "\n",
    "Abstraction: Hiding complexity behind a clean interface\n",
    "\n",
    "Inheritance: Reusing code from other classes\n",
    "\n",
    "Polymorphism: Using objects interchangeably through shared interfaces\n",
    "\n",
    "### 🧱 Core Concepts of OOP in Python ###\n",
    "Let’s dive into the main building blocks of OOP with examples.\n",
    "\n",
    "#### 1. Classes and Objects ####\n"
   ]
  },
  {
   "cell_type": "code",
   "execution_count": 29,
   "id": "28235e53",
   "metadata": {},
   "outputs": [
    {
     "name": "stdout",
     "output_type": "stream",
     "text": [
      "Buddy says woof!\n"
     ]
    }
   ],
   "source": [
    "class Dog:\n",
    "    def __init__(self, name, breed):\n",
    "        self.name = name\n",
    "        self.breed = breed\n",
    "\n",
    "    def bark(self):\n",
    "        return f\"{self.name} says woof!\"\n",
    "\n",
    "# Creating an object\n",
    "my_dog = Dog(\"Buddy\", \"Golden Retriever\")\n",
    "print(my_dog.bark())  # Output: Buddy says woof!"
   ]
  },
  {
   "cell_type": "markdown",
   "id": "4e170019",
   "metadata": {},
   "source": [
    " #### 2. Encapsulation ####\n",
    "Encapsulation keeps the internal state of an object safe from outside interference. In Python, it’s done using access modifiers:"
   ]
  },
  {
   "cell_type": "code",
   "execution_count": 30,
   "id": "79ec95be",
   "metadata": {},
   "outputs": [],
   "source": [
    "class BankAccount:\n",
    "    def __init__(self, balance):\n",
    "        self.__balance = balance  # Private variable\n",
    "\n",
    "    def deposit(self, amount):\n",
    "        self.__balance += amount\n",
    "\n",
    "    def get_balance(self):\n",
    "        return self.__balance"
   ]
  },
  {
   "cell_type": "markdown",
   "id": "d9655054",
   "metadata": {},
   "source": [
    "#### 3. Inheritance ####\n",
    "Inheritance allows a class to reuse methods and properties from a parent class."
   ]
  },
  {
   "cell_type": "code",
   "execution_count": 31,
   "id": "d6bd15f4",
   "metadata": {},
   "outputs": [
    {
     "name": "stdout",
     "output_type": "stream",
     "text": [
      "Whiskers says meow\n"
     ]
    }
   ],
   "source": [
    "class Animal:\n",
    "    def __init__(self, name):\n",
    "        self.name = name\n",
    "\n",
    "    def speak(self):\n",
    "        return \"Some sound\"\n",
    "\n",
    "class Cat(Animal):\n",
    "    def speak(self):\n",
    "        return f\"{self.name} says meow\"\n",
    "\n",
    "whiskers = Cat(\"Whiskers\")\n",
    "print(whiskers.speak())  # Output: Whiskers says meow"
   ]
  },
  {
   "cell_type": "markdown",
   "id": "62ef890a",
   "metadata": {},
   "source": [
    "#### 4. Polymorphism ####\n",
    "Polymorphism lets us use different objects in the same way:"
   ]
  },
  {
   "cell_type": "code",
   "execution_count": 32,
   "id": "d507b342",
   "metadata": {},
   "outputs": [
    {
     "ename": "AttributeError",
     "evalue": "'list' object has no attribute 'speak'",
     "output_type": "error",
     "traceback": [
      "\u001b[31m---------------------------------------------------------------------------\u001b[39m",
      "\u001b[31mAttributeError\u001b[39m                            Traceback (most recent call last)",
      "\u001b[36mCell\u001b[39m\u001b[36m \u001b[39m\u001b[32mIn[32]\u001b[39m\u001b[32m, line 4\u001b[39m\n\u001b[32m      1\u001b[39m animals = [Dog(\u001b[33m\"\u001b[39m\u001b[33mRex\u001b[39m\u001b[33m\"\u001b[39m, \u001b[33m\"\u001b[39m\u001b[33mBeagle\u001b[39m\u001b[33m\"\u001b[39m), Cat(\u001b[33m\"\u001b[39m\u001b[33mLuna\u001b[39m\u001b[33m\"\u001b[39m)]\n\u001b[32m      3\u001b[39m \u001b[38;5;28;01mfor\u001b[39;00m animal \u001b[38;5;129;01min\u001b[39;00m animals:\n\u001b[32m----> \u001b[39m\u001b[32m4\u001b[39m     \u001b[38;5;28mprint\u001b[39m(\u001b[43manimals\u001b[49m\u001b[43m.\u001b[49m\u001b[43mspeak\u001b[49m())\n",
      "\u001b[31mAttributeError\u001b[39m: 'list' object has no attribute 'speak'"
     ]
    }
   ],
   "source": [
    "animals = [Dog(\"Rex\", \"Beagle\"), Cat(\"Luna\")]\n",
    "\n",
    "for animal in animals:\n",
    "    print(animals.speak())"
   ]
  },
  {
   "cell_type": "markdown",
   "id": "d1aab661",
   "metadata": {},
   "source": [
    "### 🚀 Why Use OOP in Python? ###\n",
    "Modular code: Makes your code more organized and manageable\n",
    "\n",
    "Reusability: Easily reuse and extend classes\n",
    "\n",
    "Scalability: Ideal for large codebases and complex systems\n",
    "\n",
    "Maintainability: Easier to debug and update\n",
    "\n",
    "### 🧠 Real-World Example: Simple Inventory System ###"
   ]
  },
  {
   "cell_type": "code",
   "execution_count": null,
   "id": "4dfefce4",
   "metadata": {},
   "outputs": [],
   "source": [
    "class Product:\n",
    "    def __init__(self, name, price):\n",
    "        self.name = name\n",
    "        self.price = price\n",
    "\n",
    "class Inventory:\n",
    "    def __init__(self):\n",
    "        self.items = []\n",
    "\n",
    "    def add_product(self, product):\n",
    "        self.items.append(product)\n",
    "\n",
    "    def total_value(self):\n",
    "        return sum(item.price for item in self.items)\n",
    "\n",
    "p1 = Product(\"Laptop\", 1200)\n",
    "p2 = Product(\"Mouse\", 25)\n",
    "\n",
    "store = Inventory()\n",
    "store.add_product(p1)\n",
    "store.add_product(p2)\n",
    "\n",
    "print(f\"Total Inventory Value: ${store.total_value()}\")"
   ]
  },
  {
   "cell_type": "markdown",
   "id": "bb4a1fad",
   "metadata": {},
   "source": [
    "### 🛠 Final Thoughts ###\n",
    "Object-Oriented Programming is a powerful tool in your Python toolkit. It might take some time to get comfortable with the syntax and structure, but the payoff is tremendous — especially as your projects grow.\n",
    "\n",
    "Whether you're just starting or refining your skills, mastering OOP will help you think more like a software architect than just a coder.\n",
    "\n",
    "Want to go deeper? Try building a personal project like a Todo app, Blog system, or Game using OOP principles — it's the best way to cement your knowledge."
   ]
  }
 ],
 "metadata": {
  "kernelspec": {
   "display_name": "Python 3",
   "language": "python",
   "name": "python3"
  },
  "language_info": {
   "codemirror_mode": {
    "name": "ipython",
    "version": 3
   },
   "file_extension": ".py",
   "mimetype": "text/x-python",
   "name": "python",
   "nbconvert_exporter": "python",
   "pygments_lexer": "ipython3",
   "version": "3.12.1"
  }
 },
 "nbformat": 4,
 "nbformat_minor": 5
}
